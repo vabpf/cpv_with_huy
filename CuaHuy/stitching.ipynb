{
 "cells": [
  {
   "cell_type": "code",
   "id": "initial_id",
   "metadata": {
    "collapsed": true,
    "ExecuteTime": {
     "end_time": "2024-06-19T16:07:05.324111Z",
     "start_time": "2024-06-19T16:07:05.319185Z"
    }
   },
   "source": [
    "import sys\n",
    "sys.path.append(\"..\")\n",
    "from tools.display import display_images\n",
    "import os\n",
    "import cv2\n",
    "from stitching import Stitcher\n",
    "stitcher = Stitcher()"
   ],
   "outputs": [],
   "execution_count": 6
  },
  {
   "metadata": {
    "ExecuteTime": {
     "end_time": "2024-06-19T16:07:05.343083Z",
     "start_time": "2024-06-19T16:07:05.339143Z"
    }
   },
   "cell_type": "code",
   "source": "stitcher = Stitcher(detector=\"sift\", confidence_threshold=0.2)\n",
   "id": "422eea1e10d97a5d",
   "outputs": [],
   "execution_count": 7
  },
  {
   "metadata": {
    "ExecuteTime": {
     "end_time": "2024-06-19T16:07:06.117243Z",
     "start_time": "2024-06-19T16:07:05.359993Z"
    }
   },
   "cell_type": "code",
   "source": [
    "folder = r'Q3/'\n",
    "dir_list = os.listdir(folder)\n",
    "\n",
    "imgs = []\n",
    "list1 = []\n",
    "for file in dir_list:\n",
    "    list1.append(folder + str(file))\n",
    "# print(list1)\n",
    "# list1 = sorted(list1, key=sort_rule1, reverse=False)\n",
    "print(list1)\n",
    "imgs = [cv2.imread(img) for img in list1]"
   ],
   "id": "5ab3af86361f54e0",
   "outputs": [
    {
     "name": "stdout",
     "output_type": "stream",
     "text": [
      "['Q3/DSC_0171.jpg', 'Q3/DSC_0172.jpg', 'Q3/DSC_0173.jpg', 'Q3/DSC_0174.jpg', 'Q3/DSC_0175.jpg', 'Q3/DSC_0176.jpg', 'Q3/DSC_0177.jpg', 'Q3/DSC_0178.jpg', 'Q3/DSC_0179.jpg', 'Q3/DSC_0180.jpg', 'Q3/DSC_0182.jpg', 'Q3/DSC_0183.jpg', 'Q3/DSC_0184.jpg', 'Q3/DSC_0185.jpg', 'Q3/DSC_0186.jpg', 'Q3/DSC_0187.jpg']\n"
     ]
    }
   ],
   "execution_count": 8
  },
  {
   "metadata": {
    "ExecuteTime": {
     "end_time": "2024-06-19T16:07:11.071264Z",
     "start_time": "2024-06-19T16:07:06.119247Z"
    }
   },
   "cell_type": "code",
   "source": "panorama = stitcher.stitch(list1)",
   "id": "b4bcc1b5c4a8b5be",
   "outputs": [
    {
     "name": "stderr",
     "output_type": "stream",
     "text": [
      "C:\\Users\\Huy\\AppData\\Local\\Programs\\Python\\Python312\\Lib\\site-packages\\stitching\\subsetter.py:32: StitchingWarning: Not all images are included in the final panorama.\n",
      "                          If this is not intended, use the 'matches_graph_dot_file'\n",
      "                          parameter to analyze your matches. You might want to\n",
      "                          lower the 'confidence_threshold' or try another 'detector'\n",
      "                          to include all your images.\n",
      "  warnings.warn(\n"
     ]
    },
    {
     "ename": "StitchingError",
     "evalue": "Camera parameters adjusting failed.",
     "output_type": "error",
     "traceback": [
      "\u001B[1;31m---------------------------------------------------------------------------\u001B[0m",
      "\u001B[1;31mStitchingError\u001B[0m                            Traceback (most recent call last)",
      "Cell \u001B[1;32mIn[9], line 1\u001B[0m\n\u001B[1;32m----> 1\u001B[0m panorama \u001B[38;5;241m=\u001B[39m \u001B[43mstitcher\u001B[49m\u001B[38;5;241;43m.\u001B[39;49m\u001B[43mstitch\u001B[49m\u001B[43m(\u001B[49m\u001B[43mlist1\u001B[49m\u001B[43m)\u001B[49m\n",
      "File \u001B[1;32m~\\AppData\\Local\\Programs\\Python\\Python312\\Lib\\site-packages\\stitching\\stitcher.py:102\u001B[0m, in \u001B[0;36mStitcher.stitch\u001B[1;34m(self, images, feature_masks)\u001B[0m\n\u001B[0;32m    100\u001B[0m imgs, features, matches \u001B[38;5;241m=\u001B[39m \u001B[38;5;28mself\u001B[39m\u001B[38;5;241m.\u001B[39msubset(imgs, features, matches)\n\u001B[0;32m    101\u001B[0m cameras \u001B[38;5;241m=\u001B[39m \u001B[38;5;28mself\u001B[39m\u001B[38;5;241m.\u001B[39mestimate_camera_parameters(features, matches)\n\u001B[1;32m--> 102\u001B[0m cameras \u001B[38;5;241m=\u001B[39m \u001B[38;5;28;43mself\u001B[39;49m\u001B[38;5;241;43m.\u001B[39;49m\u001B[43mrefine_camera_parameters\u001B[49m\u001B[43m(\u001B[49m\u001B[43mfeatures\u001B[49m\u001B[43m,\u001B[49m\u001B[43m \u001B[49m\u001B[43mmatches\u001B[49m\u001B[43m,\u001B[49m\u001B[43m \u001B[49m\u001B[43mcameras\u001B[49m\u001B[43m)\u001B[49m\n\u001B[0;32m    103\u001B[0m cameras \u001B[38;5;241m=\u001B[39m \u001B[38;5;28mself\u001B[39m\u001B[38;5;241m.\u001B[39mperform_wave_correction(cameras)\n\u001B[0;32m    104\u001B[0m \u001B[38;5;28mself\u001B[39m\u001B[38;5;241m.\u001B[39mestimate_scale(cameras)\n",
      "File \u001B[1;32m~\\AppData\\Local\\Programs\\Python\\Python312\\Lib\\site-packages\\stitching\\stitcher.py:157\u001B[0m, in \u001B[0;36mStitcher.refine_camera_parameters\u001B[1;34m(self, features, matches, cameras)\u001B[0m\n\u001B[0;32m    156\u001B[0m \u001B[38;5;28;01mdef\u001B[39;00m \u001B[38;5;21mrefine_camera_parameters\u001B[39m(\u001B[38;5;28mself\u001B[39m, features, matches, cameras):\n\u001B[1;32m--> 157\u001B[0m     \u001B[38;5;28;01mreturn\u001B[39;00m \u001B[38;5;28;43mself\u001B[39;49m\u001B[38;5;241;43m.\u001B[39;49m\u001B[43mcamera_adjuster\u001B[49m\u001B[38;5;241;43m.\u001B[39;49m\u001B[43madjust\u001B[49m\u001B[43m(\u001B[49m\u001B[43mfeatures\u001B[49m\u001B[43m,\u001B[49m\u001B[43m \u001B[49m\u001B[43mmatches\u001B[49m\u001B[43m,\u001B[49m\u001B[43m \u001B[49m\u001B[43mcameras\u001B[49m\u001B[43m)\u001B[49m\n",
      "File \u001B[1;32m~\\AppData\\Local\\Programs\\Python\\Python312\\Lib\\site-packages\\stitching\\camera_adjuster.py:48\u001B[0m, in \u001B[0;36mCameraAdjuster.adjust\u001B[1;34m(self, features, pairwise_matches, estimated_cameras)\u001B[0m\n\u001B[0;32m     46\u001B[0m b, cameras \u001B[38;5;241m=\u001B[39m \u001B[38;5;28mself\u001B[39m\u001B[38;5;241m.\u001B[39madjuster\u001B[38;5;241m.\u001B[39mapply(features, pairwise_matches, estimated_cameras)\n\u001B[0;32m     47\u001B[0m \u001B[38;5;28;01mif\u001B[39;00m \u001B[38;5;129;01mnot\u001B[39;00m b:\n\u001B[1;32m---> 48\u001B[0m     \u001B[38;5;28;01mraise\u001B[39;00m StitchingError(\u001B[38;5;124m\"\u001B[39m\u001B[38;5;124mCamera parameters adjusting failed.\u001B[39m\u001B[38;5;124m\"\u001B[39m)\n\u001B[0;32m     50\u001B[0m \u001B[38;5;28;01mreturn\u001B[39;00m cameras\n",
      "\u001B[1;31mStitchingError\u001B[0m: Camera parameters adjusting failed."
     ]
    }
   ],
   "execution_count": 9
  },
  {
   "metadata": {
    "ExecuteTime": {
     "end_time": "2024-06-19T16:07:11.072274Z",
     "start_time": "2024-06-19T16:07:11.072274Z"
    }
   },
   "cell_type": "code",
   "source": "display_images([panorama], [\"Panorama\"])",
   "id": "928bec9c36f66d63",
   "outputs": [],
   "execution_count": null
  },
  {
   "metadata": {},
   "cell_type": "code",
   "source": "",
   "id": "d600652d2914f1e4",
   "outputs": [],
   "execution_count": null
  }
 ],
 "metadata": {
  "kernelspec": {
   "display_name": "Python 3",
   "language": "python",
   "name": "python3"
  },
  "language_info": {
   "codemirror_mode": {
    "name": "ipython",
    "version": 2
   },
   "file_extension": ".py",
   "mimetype": "text/x-python",
   "name": "python",
   "nbconvert_exporter": "python",
   "pygments_lexer": "ipython2",
   "version": "2.7.6"
  }
 },
 "nbformat": 4,
 "nbformat_minor": 5
}
